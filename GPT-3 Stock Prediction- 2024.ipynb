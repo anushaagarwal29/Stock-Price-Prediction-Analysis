{
 "cells": [
  {
   "cell_type": "code",
   "execution_count": null,
   "id": "31bfce39-1a37-42ad-b9f0-f16d02e2666b",
   "metadata": {},
   "outputs": [],
   "source": [
    "pip install openai"
   ]
  },
  {
   "cell_type": "markdown",
   "id": "616da100-1cdf-4518-9cbd-e00cbf01079f",
   "metadata": {},
   "source": [
    "# Stock Price Prediction using GPT-3\n",
    "This notebook will use GPT-3 to predict stock prices for Apple Inc. (AAPL) using historical financial data from Yahoo Finance (`yfinance`). We will evaluate the predictive power of GPT-3 by comparing its predicted values against the actual stock prices."
   ]
  },
  {
   "cell_type": "markdown",
   "id": "ec2cb84c-2451-449e-9617-b849caaf8764",
   "metadata": {},
   "source": [
    "## Input your Open AI key\n",
    "You can get it from https://platform.openai.com/api-keys"
   ]
  },
  {
   "cell_type": "code",
   "execution_count": 1,
   "id": "027e2b48-4f27-4b7e-884f-a076d5fb7c07",
   "metadata": {},
   "outputs": [],
   "source": [
    "key = \"YOUR KEY\""
   ]
  },
  {
   "cell_type": "markdown",
   "id": "74252453-1b82-40ff-aacd-35d2fb554e23",
   "metadata": {},
   "source": [
    "## Fetch AAPL data from 2024 Jan to Oct"
   ]
  },
  {
   "cell_type": "code",
   "execution_count": 2,
   "id": "4d5963b4-f643-433f-b9d1-96a688c96820",
   "metadata": {},
   "outputs": [
    {
     "name": "stderr",
     "output_type": "stream",
     "text": [
      "[*********************100%%**********************]  1 of 1 completed\n"
     ]
    }
   ],
   "source": [
    "import yfinance as yf\n",
    "import openai\n",
    "import pandas as pd\n",
    "import numpy as np\n",
    "from sklearn.metrics import mean_squared_error, r2_score, mean_absolute_percentage_error\n",
    "import matplotlib.pyplot as plt\n",
    "\n",
    "# Initialize OpenAI API key \n",
    "openai.api_key = key\n",
    "\n",
    "# Retrieve historical data using yfinance\n",
    "ticker = \"AAPL\"\n",
    "start_date = \"2024-01-01\"\n",
    "end_date = \"2024-10-01\"\n",
    "\n",
    "# Fetch the historical data\n",
    "aapl_data = yf.download(ticker, start=start_date, end=end_date)\n",
    "\n",
    "# Create additional features: Moving averages and RSI\n",
    "aapl_data['MA5'] = aapl_data['Adj Close'].rolling(window=5).mean()\n",
    "aapl_data['MA30'] = aapl_data['Adj Close'].rolling(window=30).mean()\n",
    "\n",
    "# RSI Calculation\n",
    "window_length = 14\n",
    "delta = aapl_data['Adj Close'].diff()\n",
    "gain = (delta.where(delta > 0, 0)).rolling(window=window_length).mean()\n",
    "loss = (-delta.where(delta < 0, 0)).rolling(window=window_length).mean()\n",
    "rs = gain / loss\n",
    "aapl_data['RSI'] = 100 - (100 / (1 + rs))\n",
    "\n",
    "# Drop NaN values\n",
    "aapl_data.dropna(inplace=True)"
   ]
  },
  {
   "cell_type": "markdown",
   "id": "baa41ec4-be6f-440c-a384-803abfdc2dba",
   "metadata": {},
   "source": [
    "## Define GPT-3 Prompt Generator\n",
    "We will define a function that generates the textual representation of the stock data for the past 30 days. This will be used as input to GPT-3 to make predictions."
   ]
  },
  {
   "cell_type": "code",
   "execution_count": 3,
   "id": "62f0f88e-c74e-4d5c-9bd7-0623c9a594a2",
   "metadata": {},
   "outputs": [],
   "source": [
    "# Function to create GPT prompt\n",
    "def create_gpt_prompt(data, days=30):\n",
    "    \"\"\"Creates a textual representation of stock data for GPT input.\"\"\"\n",
    "    prompt = \"Below is the daily adjusted closing price and indicators (MA5, MA30, RSI) of AAPL for the past 30 days. Based on this data, predict the closing price for the next day as a number only, no explanation:\\n\\n\"\n",
    "    for i in range(days):\n",
    "        date = data.index[i].strftime('%Y-%m-%d')\n",
    "        adj_close = data['Adj Close'].iloc[i]\n",
    "        ma5 = data['MA5'].iloc[i]\n",
    "        ma30 = data['MA30'].iloc[i]\n",
    "        rsi = data['RSI'].iloc[i]\n",
    "        prompt += f\"Day {i+1} ({date}): Adj Close: {adj_close:.2f}, MA5: {ma5:.2f}, MA30: {ma30:.2f}, RSI: {rsi:.2f}\\n\"\n",
    "    prompt += \"\\nPredict the adjusted close price for Day 31 as a numerical value.\"\n",
    "    return prompt\n",
    "    "
   ]
  },
  {
   "cell_type": "markdown",
   "id": "6e8dc299-4a49-468f-abd9-6a5b01152cbd",
   "metadata": {},
   "source": [
    "## Backtest GPT-3 Model Predictions\n",
    "We will backtest GPT-3's predictive power by making predictions for each day starting from day 31 onwards. Each prediction will use the previous 30 days of data as input to GPT-3."
   ]
  },
  {
   "cell_type": "code",
   "execution_count": 4,
   "id": "b8523b3c-a1ac-4e99-995b-929e081ac350",
   "metadata": {
    "scrolled": true
   },
   "outputs": [
    {
     "name": "stdout",
     "output_type": "stream",
     "text": [
      "Date: 2024-03-27, Actual: 172.88, GPT Prediction: 170.75\n",
      "Date: 2024-03-28, Actual: 171.05, GPT Prediction: 172.88\n",
      "Date: 2024-04-01, Actual: 169.60, GPT Prediction: 171.90\n",
      "Date: 2024-04-02, Actual: 168.42, GPT Prediction: 170.80\n",
      "Date: 2024-04-03, Actual: 169.22, GPT Prediction: 168.90\n",
      "Date: 2024-04-04, Actual: 168.40, GPT Prediction: 170.50\n",
      "Date: 2024-04-05, Actual: 169.15, GPT Prediction: 168.70\n",
      "Date: 2024-04-08, Actual: 168.03, GPT Prediction: 169.50\n",
      "Date: 2024-04-09, Actual: 169.24, GPT Prediction: 168.95\n",
      "Date: 2024-04-10, Actual: 167.36, GPT Prediction: 168.58\n",
      "Date: 2024-04-11, Actual: 174.60, GPT Prediction: 168.50\n",
      "Date: 2024-04-12, Actual: 176.11, GPT Prediction: 174.20\n",
      "Date: 2024-04-15, Actual: 172.26, GPT Prediction: 174.25\n",
      "Date: 2024-04-16, Actual: 168.96, GPT Prediction: 174.12\n",
      "Date: 2024-04-17, Actual: 167.58, GPT Prediction: 168.75\n",
      "Date: 2024-04-18, Actual: 166.62, GPT Prediction: 168.20\n",
      "Date: 2024-04-19, Actual: 164.59, GPT Prediction: 168.75\n",
      "Date: 2024-04-22, Actual: 165.42, GPT Prediction: 165.72\n",
      "Date: 2024-04-23, Actual: 166.48, GPT Prediction: 165.80\n",
      "Date: 2024-04-24, Actual: 168.60, GPT Prediction: 165.20\n",
      "Date: 2024-04-25, Actual: 169.46, GPT Prediction: 168.75\n",
      "Date: 2024-04-26, Actual: 168.88, GPT Prediction: 168.95\n",
      "Date: 2024-04-29, Actual: 173.06, GPT Prediction: 168.25\n",
      "Date: 2024-04-30, Actual: 169.90, GPT Prediction: 171.82\n",
      "Date: 2024-05-01, Actual: 168.88, GPT Prediction: 170.75\n",
      "Date: 2024-05-02, Actual: 172.60, GPT Prediction: 170.25\n",
      "Date: 2024-05-03, Actual: 182.92, GPT Prediction: 170.80\n",
      "Date: 2024-05-06, Actual: 181.25, GPT Prediction: 183.45\n",
      "Date: 2024-05-07, Actual: 181.94, GPT Prediction: 180.45\n",
      "Date: 2024-05-08, Actual: 182.28, GPT Prediction: 180.25\n",
      "Date: 2024-05-09, Actual: 184.11, GPT Prediction: 183.50\n",
      "Date: 2024-05-10, Actual: 182.84, GPT Prediction: 185.75\n",
      "Date: 2024-05-13, Actual: 186.06, GPT Prediction: 183.50\n",
      "Date: 2024-05-14, Actual: 187.21, GPT Prediction: 184.75\n",
      "Date: 2024-05-15, Actual: 189.50, GPT Prediction: 186.45\n",
      "Date: 2024-05-16, Actual: 189.62, GPT Prediction: 190.75\n",
      "Date: 2024-05-17, Actual: 189.65, GPT Prediction: 190.75\n",
      "Date: 2024-05-20, Actual: 190.82, GPT Prediction: 190.25\n",
      "Date: 2024-05-21, Actual: 192.13, GPT Prediction: 190.45\n",
      "Date: 2024-05-22, Actual: 190.68, GPT Prediction: 193.45\n",
      "Date: 2024-05-23, Actual: 186.66, GPT Prediction: 190.50\n",
      "Date: 2024-05-24, Actual: 189.76, GPT Prediction: 186.20\n",
      "Date: 2024-05-28, Actual: 189.77, GPT Prediction: 190.12\n",
      "Date: 2024-05-29, Actual: 190.07, GPT Prediction: 190.45\n",
      "Date: 2024-05-30, Actual: 191.07, GPT Prediction: 190.50\n",
      "Date: 2024-05-31, Actual: 192.03, GPT Prediction: 190.25\n",
      "Date: 2024-06-03, Actual: 193.81, GPT Prediction: 191.52\n",
      "Date: 2024-06-04, Actual: 194.13, GPT Prediction: 194.50\n",
      "Date: 2024-06-05, Actual: 195.64, GPT Prediction: 194.50\n",
      "Date: 2024-06-06, Actual: 194.26, GPT Prediction: 196.82\n",
      "Date: 2024-06-07, Actual: 196.66, GPT Prediction: 194.85\n",
      "Date: 2024-06-10, Actual: 192.90, GPT Prediction: 196.66\n",
      "Date: 2024-06-11, Actual: 206.91, GPT Prediction: 194.50\n",
      "Date: 2024-06-12, Actual: 212.82, GPT Prediction: 207.45\n",
      "Date: 2024-06-13, Actual: 213.99, GPT Prediction: 210.45\n",
      "Date: 2024-06-14, Actual: 212.24, GPT Prediction: 215.75\n",
      "Date: 2024-06-17, Actual: 216.42, GPT Prediction: 214.50\n",
      "Date: 2024-06-18, Actual: 214.04, GPT Prediction: 218.75\n",
      "Date: 2024-06-20, Actual: 209.44, GPT Prediction: 215.76\n",
      "Date: 2024-06-21, Actual: 207.25, GPT Prediction: 210.75\n",
      "Date: 2024-06-24, Actual: 207.90, GPT Prediction: 208.75\n",
      "Date: 2024-06-25, Actual: 208.83, GPT Prediction: 208.75\n",
      "Date: 2024-06-26, Actual: 213.00, GPT Prediction: 210.50\n",
      "Date: 2024-06-27, Actual: 213.85, GPT Prediction: 215.50\n",
      "Date: 2024-06-28, Actual: 210.38, GPT Prediction: 215.50\n",
      "Date: 2024-07-01, Actual: 216.50, GPT Prediction: 212.50\n",
      "Date: 2024-07-02, Actual: 220.02, GPT Prediction: 216.50\n",
      "Date: 2024-07-03, Actual: 221.29, GPT Prediction: 218.50\n",
      "Date: 2024-07-05, Actual: 226.08, GPT Prediction: 223.50\n",
      "Date: 2024-07-08, Actual: 227.56, GPT Prediction: 226.50\n",
      "Date: 2024-07-09, Actual: 228.42, GPT Prediction: 228.75\n",
      "Date: 2024-07-10, Actual: 232.71, GPT Prediction: 230.50\n",
      "Date: 2024-07-11, Actual: 227.31, GPT Prediction: 233.50\n",
      "Date: 2024-07-12, Actual: 230.27, GPT Prediction: 230.45\n",
      "Date: 2024-07-15, Actual: 234.13, GPT Prediction: 231.45\n",
      "Date: 2024-07-16, Actual: 234.55, GPT Prediction: 235.72\n",
      "Date: 2024-07-17, Actual: 228.62, GPT Prediction: 235.42\n",
      "Date: 2024-07-18, Actual: 223.92, GPT Prediction: 230.45\n",
      "Date: 2024-07-19, Actual: 224.05, GPT Prediction: 225.75\n",
      "Date: 2024-07-22, Actual: 223.70, GPT Prediction: 225.75\n",
      "Date: 2024-07-23, Actual: 224.75, GPT Prediction: 223.45\n",
      "Date: 2024-07-24, Actual: 218.29, GPT Prediction: 225.40\n",
      "Date: 2024-07-25, Actual: 217.24, GPT Prediction: 224.10\n",
      "Date: 2024-07-26, Actual: 217.71, GPT Prediction: 221.50\n",
      "Date: 2024-07-29, Actual: 217.99, GPT Prediction: 217.45\n",
      "Date: 2024-07-30, Actual: 218.55, GPT Prediction: 218.50\n",
      "Date: 2024-07-31, Actual: 221.82, GPT Prediction: 219.50\n",
      "Date: 2024-08-01, Actual: 218.11, GPT Prediction: 220.45\n",
      "Date: 2024-08-02, Actual: 219.61, GPT Prediction: 217.68\n",
      "Date: 2024-08-05, Actual: 209.03, GPT Prediction: 219.95\n",
      "Date: 2024-08-06, Actual: 206.99, GPT Prediction: 215.50\n",
      "Date: 2024-08-07, Actual: 209.58, GPT Prediction: 207.75\n",
      "Date: 2024-08-08, Actual: 213.06, GPT Prediction: 210.72\n",
      "Date: 2024-08-09, Actual: 215.99, GPT Prediction: 215.72\n",
      "Date: 2024-08-12, Actual: 217.53, GPT Prediction: 216.42\n",
      "Date: 2024-08-13, Actual: 221.27, GPT Prediction: 219.68\n",
      "Date: 2024-08-14, Actual: 221.72, GPT Prediction: 220.75\n",
      "Date: 2024-08-15, Actual: 224.72, GPT Prediction: 222.45\n",
      "Date: 2024-08-16, Actual: 226.05, GPT Prediction: 226.18\n",
      "Date: 2024-08-19, Actual: 225.89, GPT Prediction: 225.18\n",
      "Date: 2024-08-20, Actual: 226.51, GPT Prediction: 226.50\n",
      "Date: 2024-08-21, Actual: 226.40, GPT Prediction: 226.75\n",
      "Date: 2024-08-22, Actual: 224.53, GPT Prediction: 226.90\n",
      "Date: 2024-08-23, Actual: 226.84, GPT Prediction: 225.75\n",
      "Date: 2024-08-26, Actual: 227.18, GPT Prediction: 226.30\n",
      "Date: 2024-08-27, Actual: 228.03, GPT Prediction: 226.50\n",
      "Date: 2024-08-28, Actual: 226.49, GPT Prediction: 228.45\n",
      "Date: 2024-08-29, Actual: 229.79, GPT Prediction: 226.90\n",
      "Date: 2024-08-30, Actual: 229.00, GPT Prediction: 230.45\n",
      "Date: 2024-09-03, Actual: 222.77, GPT Prediction: 230.50\n",
      "Date: 2024-09-04, Actual: 220.85, GPT Prediction: 223.45\n",
      "Date: 2024-09-05, Actual: 222.38, GPT Prediction: 220.10\n",
      "Date: 2024-09-06, Actual: 220.82, GPT Prediction: 223.50\n",
      "Date: 2024-09-09, Actual: 220.91, GPT Prediction: 221.45\n",
      "Date: 2024-09-10, Actual: 220.11, GPT Prediction: 221.50\n",
      "Date: 2024-09-11, Actual: 222.66, GPT Prediction: 220.45\n",
      "Date: 2024-09-12, Actual: 222.77, GPT Prediction: 221.56\n",
      "Date: 2024-09-13, Actual: 222.50, GPT Prediction: 223.45\n",
      "Date: 2024-09-16, Actual: 216.32, GPT Prediction: 222.30\n",
      "Date: 2024-09-17, Actual: 216.79, GPT Prediction: 223.45\n",
      "Date: 2024-09-18, Actual: 220.69, GPT Prediction: 216.50\n",
      "Date: 2024-09-19, Actual: 228.87, GPT Prediction: 220.32\n",
      "Date: 2024-09-20, Actual: 228.20, GPT Prediction: 228.12\n",
      "Date: 2024-09-23, Actual: 226.47, GPT Prediction: 228.50\n",
      "Date: 2024-09-24, Actual: 227.37, GPT Prediction: 227.50\n",
      "Date: 2024-09-25, Actual: 226.37, GPT Prediction: 227.85\n",
      "Date: 2024-09-26, Actual: 227.52, GPT Prediction: 227.50\n",
      "Date: 2024-09-27, Actual: 227.79, GPT Prediction: 227.80\n",
      "Date: 2024-09-30, Actual: 233.00, GPT Prediction: 227.45\n"
     ]
    }
   ],
   "source": [
    "# Prepare data for prediction and backtest GPT's performance\n",
    "predictions = []\n",
    "actual_values = []\n",
    "dates = []\n",
    "\n",
    "# Using 30 days of data for each prediction\n",
    "lookback_days = 30\n",
    "\n",
    "for i in range(lookback_days, len(aapl_data)):\n",
    "    historical_data = aapl_data.iloc[i - lookback_days:i]\n",
    "    actual_value = aapl_data['Adj Close'].iloc[i]\n",
    "    actual_values.append(actual_value)\n",
    "    actual_date = aapl_data.index[i]\n",
    "    dates.append(actual_date)\n",
    "    \n",
    "    # Create GPT prompt\n",
    "    gpt_prompt = create_gpt_prompt(historical_data)\n",
    "    \n",
    "    # 5. Make prediction using GPT-3.5 (chat-based model)\n",
    "    response = openai.ChatCompletion.create(\n",
    "        model=\"gpt-3.5-turbo\",\n",
    "        messages=[\n",
    "            {\"role\": \"system\", \"content\": \"You are a financial stock market expert.\"},\n",
    "            {\"role\": \"user\", \"content\": gpt_prompt}\n",
    "        ],\n",
    "        max_tokens=10,\n",
    "        temperature=0.2\n",
    "    )\n",
    "    \n",
    "    # Extract GPT prediction and handle non-numeric cases\n",
    "    try:\n",
    "        predicted_value = float(response['choices'][0]['message']['content'].strip())\n",
    "    except ValueError:\n",
    "        print(f\"Invalid GPT response: {response['choices'][0]['message']['content']}\")\n",
    "        predicted_value = np.nan  # Handle invalid response by setting NaN\n",
    "    predictions.append(predicted_value)\n",
    "\n",
    "    print(f\"Date: {actual_date.strftime('%Y-%m-%d')}, Actual: {actual_value:.2f}, GPT Prediction: {predicted_value:.2f}\")\n",
    "\n",
    "# Remove NaN values if any (in case of invalid GPT responses)\n",
    "predictions = [p for p in predictions if not np.isnan(p)]\n",
    "actual_values = actual_values[:len(predictions)]\n",
    "dates = dates[:len(predictions)]"
   ]
  },
  {
   "cell_type": "markdown",
   "id": "95adbb92-28c0-49b0-8a3e-56147d8ef352",
   "metadata": {},
   "source": [
    "## Save Predictions and Actual Values\n",
    "We will store the actual and predicted values along with the dates into a CSV file for further analysis and comparison.\n"
   ]
  },
  {
   "cell_type": "code",
   "execution_count": 5,
   "id": "3a30698a-8f8e-4148-a1fc-0f8793d52526",
   "metadata": {},
   "outputs": [],
   "source": [
    "# Store the results in a DataFrame\n",
    "results_df = pd.DataFrame({\n",
    "    'Date': dates,\n",
    "    'Actual': actual_values,\n",
    "    'Predicted': predictions\n",
    "})\n",
    "\n",
    "# Save the DataFrame to a CSV file\n",
    "results_df.to_csv('gpt_stock_predictions_2024.csv', index=False)"
   ]
  },
  {
   "cell_type": "markdown",
   "id": "5ae30bcd-b1ea-4798-bf97-3edb4bcca1dc",
   "metadata": {},
   "source": [
    "## Analyze Performance Metrics (R², MAPE and MSE)\n",
    "We will evaluate GPT-3's performance by calculating the Mean Squared Error (MSE) and the R² score between the predicted and actual adjusted close prices."
   ]
  },
  {
   "cell_type": "code",
   "execution_count": 6,
   "id": "39618cf6-a7e0-468f-acb7-26e13bffa35f",
   "metadata": {},
   "outputs": [
    {
     "data": {
      "text/html": [
       "<div>\n",
       "<style scoped>\n",
       "    .dataframe tbody tr th:only-of-type {\n",
       "        vertical-align: middle;\n",
       "    }\n",
       "\n",
       "    .dataframe tbody tr th {\n",
       "        vertical-align: top;\n",
       "    }\n",
       "\n",
       "    .dataframe thead th {\n",
       "        text-align: right;\n",
       "    }\n",
       "</style>\n",
       "<table border=\"1\" class=\"dataframe\">\n",
       "  <thead>\n",
       "    <tr style=\"text-align: right;\">\n",
       "      <th></th>\n",
       "      <th>Metric</th>\n",
       "      <th>Value</th>\n",
       "    </tr>\n",
       "  </thead>\n",
       "  <tbody>\n",
       "    <tr>\n",
       "      <th>0</th>\n",
       "      <td>MSE</td>\n",
       "      <td>12.452401</td>\n",
       "    </tr>\n",
       "    <tr>\n",
       "      <th>1</th>\n",
       "      <td>MAPE</td>\n",
       "      <td>0.012679</td>\n",
       "    </tr>\n",
       "    <tr>\n",
       "      <th>2</th>\n",
       "      <td>R²</td>\n",
       "      <td>0.974840</td>\n",
       "    </tr>\n",
       "  </tbody>\n",
       "</table>\n",
       "</div>"
      ],
      "text/plain": [
       "  Metric      Value\n",
       "0    MSE  12.452401\n",
       "1   MAPE   0.012679\n",
       "2     R²   0.974840"
      ]
     },
     "execution_count": 6,
     "metadata": {},
     "output_type": "execute_result"
    }
   ],
   "source": [
    "# Analyze the performance (R², MSE, and MAPE)\n",
    "mse = mean_squared_error(actual_values, predictions)\n",
    "mape = mean_absolute_percentage_error(actual_values, predictions)\n",
    "r2 = r2_score(actual_values, predictions)\n",
    "\n",
    "# Create a DataFrame to display the results\n",
    "performance_metrics = pd.DataFrame({\n",
    "    'Metric': ['MSE', 'MAPE', 'R²'],\n",
    "    'Value': [mse, mape, r2]\n",
    "})\n",
    "\n",
    "# Display the DataFrame\n",
    "performance_metrics"
   ]
  },
  {
   "cell_type": "markdown",
   "id": "9a63f1eb-8ce2-4b3e-a886-5fc40e82c08d",
   "metadata": {},
   "source": [
    "## Visualize Predictions vs Actual Values\n",
    "Lastly, we will create a plot to visually compare GPT-3's predicted stock prices to the actual stock prices over time."
   ]
  },
  {
   "cell_type": "code",
   "execution_count": 7,
   "id": "b0a10534-a765-46ff-a9ee-934dbfc77d35",
   "metadata": {},
   "outputs": [
    {
     "data": {
      "image/png": "[encoded data removed]",
      "text/plain": [
       "<Figure size 1000x600 with 1 Axes>"
      ]
     },
     "metadata": {},
     "output_type": "display_data"
    }
   ],
   "source": [
    "# Visualize Predictions vs Actual\n",
    "plt.figure(figsize=(10, 6))\n",
    "plt.plot(results_df['Date'], results_df['Actual'], label=\"Actual Price\", color='blue', linestyle='-')\n",
    "plt.plot(results_df['Date'], results_df['Predicted'], label=\"GPT Predicted Price\", color='red', linestyle='--')\n",
    "plt.xlabel(\"Date\")\n",
    "plt.ylabel(\"Adjusted Close Price\")\n",
    "plt.title(\"GPT-3 Predicted vs Actual Stock Prices for AAPL\")\n",
    "plt.xticks(rotation=45)\n",
    "plt.legend()\n",
    "plt.grid(True)\n",
    "plt.tight_layout()\n",
    "plt.show()"
   ]
  },
  {
   "cell_type": "markdown",
   "id": "0c6e56e7-79cf-4c49-9a48-0f90ec2ced62",
   "metadata": {},
   "source": [
    "## Example Prompt Used"
   ]
  },
  {
   "cell_type": "code",
   "execution_count": 8,
   "id": "ec43db4e-665d-4126-b6a3-cb99639555fe",
   "metadata": {},
   "outputs": [
    {
     "name": "stdout",
     "output_type": "stream",
     "text": [
      "Example GPT Prompt:\n",
      "\n",
      "Below is the daily adjusted closing price and indicators (MA5, MA30, RSI) of AAPL for the past 30 days. Based on this data, predict the closing price for the next day as a number only, no explanation:\n",
      "\n",
      "Day 1 (2024-08-19): Adj Close: 225.89, MA5: 223.93, MA30: 221.79, RSI: 59.10\n",
      "Day 2 (2024-08-20): Adj Close: 226.51, MA5: 224.98, MA30: 221.72, RSI: 56.22\n",
      "Day 3 (2024-08-21): Adj Close: 226.40, MA5: 225.91, MA30: 221.51, RSI: 62.17\n",
      "Day 4 (2024-08-22): Adj Close: 224.53, MA5: 225.88, MA30: 221.42, RSI: 57.15\n",
      "Day 5 (2024-08-23): Adj Close: 226.84, MA5: 226.03, MA30: 221.30, RSI: 84.03\n",
      "Day 6 (2024-08-26): Adj Close: 227.18, MA5: 226.29, MA30: 221.07, RSI: 91.25\n",
      "Day 7 (2024-08-27): Adj Close: 228.03, MA5: 226.60, MA30: 220.86, RSI: 90.59\n",
      "Day 8 (2024-08-28): Adj Close: 226.49, MA5: 226.61, MA30: 220.78, RSI: 82.30\n",
      "Day 9 (2024-08-29): Adj Close: 229.79, MA5: 227.67, MA30: 220.98, RSI: 82.61\n",
      "Day 10 (2024-08-30): Adj Close: 229.00, MA5: 228.10, MA30: 221.15, RSI: 78.10\n",
      "Day 11 (2024-09-03): Adj Close: 222.77, MA5: 227.22, MA30: 221.11, RSI: 53.28\n",
      "Day 12 (2024-09-04): Adj Close: 220.85, MA5: 225.78, MA30: 220.98, RSI: 48.22\n",
      "Day 13 (2024-09-05): Adj Close: 222.38, MA5: 224.96, MA30: 221.12, RSI: 44.89\n",
      "Day 14 (2024-09-06): Adj Close: 220.82, MA5: 223.16, MA30: 221.24, RSI: 38.69\n",
      "Day 15 (2024-09-09): Adj Close: 220.91, MA5: 221.55, MA30: 221.35, RSI: 39.20\n",
      "Day 16 (2024-09-10): Adj Close: 220.11, MA5: 221.01, MA30: 221.42, RSI: 36.23\n",
      "Day 17 (2024-09-11): Adj Close: 222.66, MA5: 221.38, MA30: 221.55, RSI: 42.72\n",
      "Day 18 (2024-09-12): Adj Close: 222.77, MA5: 221.45, MA30: 221.59, RSI: 46.32\n",
      "Day 19 (2024-09-13): Adj Close: 222.50, MA5: 221.79, MA30: 221.73, RSI: 40.08\n",
      "Day 20 (2024-09-16): Adj Close: 216.32, MA5: 220.87, MA30: 221.62, RSI: 30.41\n",
      "Day 21 (2024-09-17): Adj Close: 216.79, MA5: 220.21, MA30: 221.88, RSI: 29.44\n",
      "Day 22 (2024-09-18): Adj Close: 220.69, MA5: 219.81, MA30: 222.34, RSI: 40.24\n",
      "Day 23 (2024-09-19): Adj Close: 228.87, MA5: 221.03, MA30: 222.98, RSI: 48.67\n",
      "Day 24 (2024-09-20): Adj Close: 228.20, MA5: 222.17, MA30: 223.49, RSI: 48.84\n",
      "Day 25 (2024-09-23): Adj Close: 226.47, MA5: 224.20, MA30: 223.84, RSI: 56.17\n",
      "Day 26 (2024-09-24): Adj Close: 227.37, MA5: 226.32, MA30: 224.16, RSI: 61.26\n",
      "Day 27 (2024-09-25): Adj Close: 226.37, MA5: 227.46, MA30: 224.33, RSI: 57.02\n",
      "Day 28 (2024-09-26): Adj Close: 227.52, MA5: 227.19, MA30: 224.53, RSI: 61.96\n",
      "Day 29 (2024-09-27): Adj Close: 227.79, MA5: 227.10, MA30: 224.63, RSI: 62.21\n",
      "Day 30 (2024-09-30): Adj Close: 233.00, MA5: 228.41, MA30: 224.86, RSI: 69.78\n",
      "\n",
      "Predict the adjusted close price for Day 31 as a numerical value.\n"
     ]
    }
   ],
   "source": [
    "# Prepare an example prompt\n",
    "example_historical_data = aapl_data.iloc[-30:]  # Use the last 30 days as an example\n",
    "example_prompt = create_gpt_prompt(example_historical_data)\n",
    "\n",
    "# Print the example prompt\n",
    "print(\"Example GPT Prompt:\\n\")\n",
    "print(example_prompt)"
   ]
  },
  {
   "cell_type": "code",
   "execution_count": null,
   "id": "19c40c1f-e635-4486-842c-65f2f2288fd8",
   "metadata": {},
   "outputs": [],
   "source": []
  }
 ],
 "metadata": {
  "kernelspec": {
   "display_name": "Python 3 (ipykernel)",
   "language": "python",
   "name": "python3"
  },
  "language_info": {
   "codemirror_mode": {
    "name": "ipython",
    "version": 3
   },
   "file_extension": ".py",
   "mimetype": "text/x-python",
   "name": "python",
   "nbconvert_exporter": "python",
   "pygments_lexer": "ipython3",
   "version": "3.11.9"
  }
 },
 "nbformat": 4,
 "nbformat_minor": 5
}
